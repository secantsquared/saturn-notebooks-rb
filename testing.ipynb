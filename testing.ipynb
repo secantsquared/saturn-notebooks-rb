{
 "cells": [
  {
   "cell_type": "code",
   "execution_count": 1,
   "id": "da661851",
   "metadata": {
    "execution": {
     "iopub.execute_input": "2021-09-19T19:43:46.046074Z",
     "iopub.status.busy": "2021-09-19T19:43:46.045686Z",
     "iopub.status.idle": "2021-09-19T19:43:46.061047Z",
     "shell.execute_reply": "2021-09-19T19:43:46.060385Z",
     "shell.execute_reply.started": "2021-09-19T19:43:46.045997Z"
    }
   },
   "outputs": [
    {
     "data": {
      "text/plain": [
       "'3.7.10 | packaged by conda-forge | (default, Feb 19 2021, 16:07:37) \\n[GCC 9.3.0]'"
      ]
     },
     "execution_count": 1,
     "metadata": {},
     "output_type": "execute_result"
    }
   ],
   "source": [
    "import sys; sys.version"
   ]
  },
  {
   "cell_type": "code",
   "execution_count": null,
   "id": "720ea72a",
   "metadata": {},
   "outputs": [],
   "source": []
  }
 ],
 "metadata": {
  "kernelspec": {
   "display_name": "saturn (Python 3)",
   "language": "python",
   "name": "python3"
  },
  "language_info": {
   "codemirror_mode": {
    "name": "ipython",
    "version": 3
   },
   "file_extension": ".py",
   "mimetype": "text/x-python",
   "name": "python",
   "nbconvert_exporter": "python",
   "pygments_lexer": "ipython3",
   "version": "3.7.10"
  }
 },
 "nbformat": 4,
 "nbformat_minor": 5
}
